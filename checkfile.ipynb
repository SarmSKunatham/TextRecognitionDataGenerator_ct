{
 "cells": [
  {
   "cell_type": "code",
   "execution_count": 1,
   "metadata": {},
   "outputs": [],
   "source": [
    "import os\n",
    "import glob"
   ]
  },
  {
   "cell_type": "code",
   "execution_count": 2,
   "metadata": {},
   "outputs": [
    {
     "data": {
      "text/plain": [
       "50000"
      ]
     },
     "execution_count": 2,
     "metadata": {},
     "output_type": "execute_result"
    }
   ],
   "source": [
    "len(glob.glob(\"trdg/newdatasetv3/*jpg\"))"
   ]
  },
  {
   "cell_type": "code",
   "execution_count": 4,
   "metadata": {},
   "outputs": [
    {
     "data": {
      "text/plain": [
       "42500"
      ]
     },
     "execution_count": 4,
     "metadata": {},
     "output_type": "execute_result"
    }
   ],
   "source": [
    "len(glob.glob(\"trdg/Accrevo_datasetv3/train/*jpg\"))\n"
   ]
  },
  {
   "cell_type": "code",
   "execution_count": 6,
   "metadata": {},
   "outputs": [
    {
     "data": {
      "text/plain": [
       "7500"
      ]
     },
     "execution_count": 6,
     "metadata": {},
     "output_type": "execute_result"
    }
   ],
   "source": [
    "len(glob.glob(\"trdg/Accrevo_datasetv3/test/*jpg\"))"
   ]
  },
  {
   "cell_type": "code",
   "execution_count": 7,
   "metadata": {},
   "outputs": [],
   "source": [
    "import pandas as pd\n",
    "import shutil\n",
    "import glob \n",
    "import os\n",
    "from tqdm import tqdm\n",
    "from sklearn.model_selection import train_test_split\n"
   ]
  },
  {
   "cell_type": "code",
   "execution_count": 12,
   "metadata": {},
   "outputs": [
    {
     "data": {
      "text/plain": [
       "50000"
      ]
     },
     "execution_count": 12,
     "metadata": {},
     "output_type": "execute_result"
    }
   ],
   "source": [
    "labels_df = pd.read_csv(\"./trdg/newdatasetv3/labels.txt\", header=None, sep='\\n')\n",
    "len(labels_df)"
   ]
  },
  {
   "cell_type": "code",
   "execution_count": 13,
   "metadata": {},
   "outputs": [],
   "source": [
    "train, test = train_test_split(labels_df, test_size=0.15)"
   ]
  },
  {
   "cell_type": "code",
   "execution_count": 14,
   "metadata": {},
   "outputs": [
    {
     "data": {
      "text/html": [
       "<div>\n",
       "<style scoped>\n",
       "    .dataframe tbody tr th:only-of-type {\n",
       "        vertical-align: middle;\n",
       "    }\n",
       "\n",
       "    .dataframe tbody tr th {\n",
       "        vertical-align: top;\n",
       "    }\n",
       "\n",
       "    .dataframe thead th {\n",
       "        text-align: right;\n",
       "    }\n",
       "</style>\n",
       "<table border=\"1\" class=\"dataframe\">\n",
       "  <thead>\n",
       "    <tr style=\"text-align: right;\">\n",
       "      <th></th>\n",
       "      <th>0</th>\n",
       "    </tr>\n",
       "  </thead>\n",
       "  <tbody>\n",
       "    <tr>\n",
       "      <th>31480</th>\n",
       "      <td>31480.jpg กรมโฆษณาการ</td>\n",
       "    </tr>\n",
       "    <tr>\n",
       "      <th>27494</th>\n",
       "      <td>27494.jpg อำเภอบางแม่นาง</td>\n",
       "    </tr>\n",
       "    <tr>\n",
       "      <th>23134</th>\n",
       "      <td>23134.jpg สมาคมมวยโลก</td>\n",
       "    </tr>\n",
       "    <tr>\n",
       "      <th>12841</th>\n",
       "      <td>12841.jpg เฉลี่ย</td>\n",
       "    </tr>\n",
       "    <tr>\n",
       "      <th>23257</th>\n",
       "      <td>23257.jpg บาดทรวง</td>\n",
       "    </tr>\n",
       "    <tr>\n",
       "      <th>...</th>\n",
       "      <td>...</td>\n",
       "    </tr>\n",
       "    <tr>\n",
       "      <th>34561</th>\n",
       "      <td>34561.jpg พยก</td>\n",
       "    </tr>\n",
       "    <tr>\n",
       "      <th>12589</th>\n",
       "      <td>12589.jpg เมืองเซนท์มอริทซ์</td>\n",
       "    </tr>\n",
       "    <tr>\n",
       "      <th>48368</th>\n",
       "      <td>48368.jpg เกาเหลียง</td>\n",
       "    </tr>\n",
       "    <tr>\n",
       "      <th>13459</th>\n",
       "      <td>13459.jpg ถูกต้อน</td>\n",
       "    </tr>\n",
       "    <tr>\n",
       "      <th>39061</th>\n",
       "      <td>39061.jpg บ้านไทไท</td>\n",
       "    </tr>\n",
       "  </tbody>\n",
       "</table>\n",
       "<p>42500 rows × 1 columns</p>\n",
       "</div>"
      ],
      "text/plain": [
       "                                 0\n",
       "31480        31480.jpg กรมโฆษณาการ\n",
       "27494     27494.jpg อำเภอบางแม่นาง\n",
       "23134        23134.jpg สมาคมมวยโลก\n",
       "12841             12841.jpg เฉลี่ย\n",
       "23257            23257.jpg บาดทรวง\n",
       "...                            ...\n",
       "34561                34561.jpg พยก\n",
       "12589  12589.jpg เมืองเซนท์มอริทซ์\n",
       "48368          48368.jpg เกาเหลียง\n",
       "13459            13459.jpg ถูกต้อน\n",
       "39061           39061.jpg บ้านไทไท\n",
       "\n",
       "[42500 rows x 1 columns]"
      ]
     },
     "execution_count": 14,
     "metadata": {},
     "output_type": "execute_result"
    }
   ],
   "source": [
    "train"
   ]
  },
  {
   "cell_type": "code",
   "execution_count": 15,
   "metadata": {},
   "outputs": [
    {
     "data": {
      "text/html": [
       "<div>\n",
       "<style scoped>\n",
       "    .dataframe tbody tr th:only-of-type {\n",
       "        vertical-align: middle;\n",
       "    }\n",
       "\n",
       "    .dataframe tbody tr th {\n",
       "        vertical-align: top;\n",
       "    }\n",
       "\n",
       "    .dataframe thead th {\n",
       "        text-align: right;\n",
       "    }\n",
       "</style>\n",
       "<table border=\"1\" class=\"dataframe\">\n",
       "  <thead>\n",
       "    <tr style=\"text-align: right;\">\n",
       "      <th></th>\n",
       "      <th>0</th>\n",
       "    </tr>\n",
       "  </thead>\n",
       "  <tbody>\n",
       "    <tr>\n",
       "      <th>31478</th>\n",
       "      <td>31478.jpg เทพธัญญ์</td>\n",
       "    </tr>\n",
       "    <tr>\n",
       "      <th>49672</th>\n",
       "      <td>49672.jpg เดชะปัญญา</td>\n",
       "    </tr>\n",
       "    <tr>\n",
       "      <th>14568</th>\n",
       "      <td>14568.jpg ลูกงมงาย</td>\n",
       "    </tr>\n",
       "    <tr>\n",
       "      <th>4644</th>\n",
       "      <td>4644.jpg เลดีโกไดวา</td>\n",
       "    </tr>\n",
       "    <tr>\n",
       "      <th>12783</th>\n",
       "      <td>12783.jpg เจนกิจณรงค์</td>\n",
       "    </tr>\n",
       "    <tr>\n",
       "      <th>...</th>\n",
       "      <td>...</td>\n",
       "    </tr>\n",
       "    <tr>\n",
       "      <th>26951</th>\n",
       "      <td>26951.jpg สภากาชาดสยาม</td>\n",
       "    </tr>\n",
       "    <tr>\n",
       "      <th>23765</th>\n",
       "      <td>23765.jpg ชิค</td>\n",
       "    </tr>\n",
       "    <tr>\n",
       "      <th>12225</th>\n",
       "      <td>12225.jpg อัลทรา</td>\n",
       "    </tr>\n",
       "    <tr>\n",
       "      <th>40112</th>\n",
       "      <td>40112.jpg อเมริักัน</td>\n",
       "    </tr>\n",
       "    <tr>\n",
       "      <th>6774</th>\n",
       "      <td>6774.jpg MONT CLAIR WHITE 5ltr.</td>\n",
       "    </tr>\n",
       "  </tbody>\n",
       "</table>\n",
       "<p>7500 rows × 1 columns</p>\n",
       "</div>"
      ],
      "text/plain": [
       "                                     0\n",
       "31478               31478.jpg เทพธัญญ์\n",
       "49672              49672.jpg เดชะปัญญา\n",
       "14568               14568.jpg ลูกงมงาย\n",
       "4644               4644.jpg เลดีโกไดวา\n",
       "12783            12783.jpg เจนกิจณรงค์\n",
       "...                                ...\n",
       "26951           26951.jpg สภากาชาดสยาม\n",
       "23765                    23765.jpg ชิค\n",
       "12225                 12225.jpg อัลทรา\n",
       "40112              40112.jpg อเมริักัน\n",
       "6774   6774.jpg MONT CLAIR WHITE 5ltr.\n",
       "\n",
       "[7500 rows x 1 columns]"
      ]
     },
     "execution_count": 15,
     "metadata": {},
     "output_type": "execute_result"
    }
   ],
   "source": [
    "test"
   ]
  },
  {
   "cell_type": "code",
   "execution_count": 17,
   "metadata": {},
   "outputs": [
    {
     "name": "stdout",
     "output_type": "stream",
     "text": [
      "/Users/sarmkunatham/Documents/GitHub/TextRecognitionDataGenerator_ct/trdg\n"
     ]
    }
   ],
   "source": [
    "%cd trdg/"
   ]
  },
  {
   "cell_type": "code",
   "execution_count": 18,
   "metadata": {},
   "outputs": [
    {
     "name": "stderr",
     "output_type": "stream",
     "text": [
      "100%|██████████| 7500/7500 [00:02<00:00, 2803.45it/s]\n",
      "100%|██████████| 42500/42500 [00:13<00:00, 3222.01it/s]\n"
     ]
    }
   ],
   "source": [
    "def create_dataset(df, dst='train'):\n",
    "    filenames = []\n",
    "    texts = []\n",
    "    for string in tqdm(df[0]):\n",
    "        filename = string.split(None, 1)[0]\n",
    "        text = string.split(None, 1)[1]\n",
    "        source_path = os.path.join('newdatasetv3',filename)\n",
    "        destination = os.path.join('Accrevo_datasetv3', dst)\n",
    "        filenames.append(filename)\n",
    "        texts.append(text)\n",
    "        \n",
    "        os.makedirs(destination, exist_ok=True)\n",
    "        shutil.copyfile(source_path, os.path.join(destination, filename))\n",
    "\n",
    "    new_df = pd.DataFrame(list(zip(filenames, texts)),columns =['filename', 'words'])\n",
    "    new_df.to_csv(os.path.join(destination, 'labels.csv'), index=False)\n",
    "\n",
    "create_dataset(test, 'test')\n",
    "create_dataset(train, 'train')\n"
   ]
  }
 ],
 "metadata": {
  "kernelspec": {
   "display_name": "Python 3.9.12 ('trdg')",
   "language": "python",
   "name": "python3"
  },
  "language_info": {
   "codemirror_mode": {
    "name": "ipython",
    "version": 3
   },
   "file_extension": ".py",
   "mimetype": "text/x-python",
   "name": "python",
   "nbconvert_exporter": "python",
   "pygments_lexer": "ipython3",
   "version": "3.8.13"
  },
  "orig_nbformat": 4,
  "vscode": {
   "interpreter": {
    "hash": "435c7e1964492df3bd754b4fe35da7c6ce314300ee73bf2004bcfedb5b148398"
   }
  }
 },
 "nbformat": 4,
 "nbformat_minor": 2
}
