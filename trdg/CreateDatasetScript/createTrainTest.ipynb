{
 "cells": [
  {
   "cell_type": "code",
   "execution_count": 1,
   "metadata": {},
   "outputs": [],
   "source": [
    "import pandas as pd\n",
    "import os \n",
    "import glob \n",
    "import numpy as np\n",
    "from tqdm.notebook import tqdm\n",
    "import shutil"
   ]
  },
  {
   "cell_type": "code",
   "execution_count": 2,
   "metadata": {},
   "outputs": [],
   "source": [
    "directory = './TrainableData/'"
   ]
  },
  {
   "cell_type": "code",
   "execution_count": 3,
   "metadata": {},
   "outputs": [],
   "source": [
    "filepaths = glob.glob(directory + '/*.jpg')"
   ]
  },
  {
   "cell_type": "code",
   "execution_count": 4,
   "metadata": {},
   "outputs": [
    {
     "name": "stdout",
     "output_type": "stream",
     "text": [
      "['./TrainableData/9733.jpg', './TrainableData/110369.jpg', './TrainableData/161590.jpg', './TrainableData/14147.jpg', './TrainableData/86425.jpg', './TrainableData/52112.jpg', './TrainableData/108526.jpg', './TrainableData/139923.jpg', './TrainableData/89716.jpg', './TrainableData/63.jpg']\n",
      "200000\n"
     ]
    }
   ],
   "source": [
    "print(filepaths[:10])\n",
    "print(len(filepaths))"
   ]
  },
  {
   "cell_type": "code",
   "execution_count": 6,
   "metadata": {},
   "outputs": [
    {
     "data": {
      "text/html": [
       "<div>\n",
       "<style scoped>\n",
       "    .dataframe tbody tr th:only-of-type {\n",
       "        vertical-align: middle;\n",
       "    }\n",
       "\n",
       "    .dataframe tbody tr th {\n",
       "        vertical-align: top;\n",
       "    }\n",
       "\n",
       "    .dataframe thead th {\n",
       "        text-align: right;\n",
       "    }\n",
       "</style>\n",
       "<table border=\"1\" class=\"dataframe\">\n",
       "  <thead>\n",
       "    <tr style=\"text-align: right;\">\n",
       "      <th></th>\n",
       "      <th>filename</th>\n",
       "      <th>words</th>\n",
       "    </tr>\n",
       "  </thead>\n",
       "  <tbody>\n",
       "    <tr>\n",
       "      <th>0</th>\n",
       "      <td>0.jpg</td>\n",
       "      <td>analcimes</td>\n",
       "    </tr>\n",
       "    <tr>\n",
       "      <th>1</th>\n",
       "      <td>1.jpg</td>\n",
       "      <td>สตั๊ฟฟ์</td>\n",
       "    </tr>\n",
       "    <tr>\n",
       "      <th>2</th>\n",
       "      <td>2.jpg</td>\n",
       "      <td>บิชอปอาริงกาโรซ่า</td>\n",
       "    </tr>\n",
       "    <tr>\n",
       "      <th>3</th>\n",
       "      <td>3.jpg</td>\n",
       "      <td>ปิ่นลดา</td>\n",
       "    </tr>\n",
       "    <tr>\n",
       "      <th>4</th>\n",
       "      <td>4.jpg</td>\n",
       "      <td>Ageratum</td>\n",
       "    </tr>\n",
       "    <tr>\n",
       "      <th>...</th>\n",
       "      <td>...</td>\n",
       "      <td>...</td>\n",
       "    </tr>\n",
       "    <tr>\n",
       "      <th>199995</th>\n",
       "      <td>199995.jpg</td>\n",
       "      <td>เกาะเหนือ</td>\n",
       "    </tr>\n",
       "    <tr>\n",
       "      <th>199996</th>\n",
       "      <td>199996.jpg</td>\n",
       "      <td>buck-and-wing</td>\n",
       "    </tr>\n",
       "    <tr>\n",
       "      <th>199997</th>\n",
       "      <td>199997.jpg</td>\n",
       "      <td>เข้าศูนย์ มาสด้า2</td>\n",
       "    </tr>\n",
       "    <tr>\n",
       "      <th>199998</th>\n",
       "      <td>199998.jpg</td>\n",
       "      <td>anconagra</td>\n",
       "    </tr>\n",
       "    <tr>\n",
       "      <th>199999</th>\n",
       "      <td>199999.jpg</td>\n",
       "      <td>anagnostes</td>\n",
       "    </tr>\n",
       "  </tbody>\n",
       "</table>\n",
       "<p>200000 rows × 2 columns</p>\n",
       "</div>"
      ],
      "text/plain": [
       "          filename              words\n",
       "0            0.jpg          analcimes\n",
       "1            1.jpg            สตั๊ฟฟ์\n",
       "2            2.jpg  บิชอปอาริงกาโรซ่า\n",
       "3            3.jpg            ปิ่นลดา\n",
       "4            4.jpg           Ageratum\n",
       "...            ...                ...\n",
       "199995  199995.jpg          เกาะเหนือ\n",
       "199996  199996.jpg      buck-and-wing\n",
       "199997  199997.jpg  เข้าศูนย์ มาสด้า2\n",
       "199998  199998.jpg          anconagra\n",
       "199999  199999.jpg         anagnostes\n",
       "\n",
       "[200000 rows x 2 columns]"
      ]
     },
     "execution_count": 6,
     "metadata": {},
     "output_type": "execute_result"
    }
   ],
   "source": [
    "label_df = pd.read_csv('./TrainableData/labels.csv')\n",
    "label_df"
   ]
  },
  {
   "cell_type": "code",
   "execution_count": 7,
   "metadata": {},
   "outputs": [],
   "source": [
    "from sklearn.model_selection import train_test_split\n"
   ]
  },
  {
   "cell_type": "code",
   "execution_count": 8,
   "metadata": {},
   "outputs": [],
   "source": [
    "train, test = train_test_split(label_df, test_size=0.2)"
   ]
  },
  {
   "cell_type": "code",
   "execution_count": 9,
   "metadata": {},
   "outputs": [
    {
     "data": {
      "text/html": [
       "<div>\n",
       "<style scoped>\n",
       "    .dataframe tbody tr th:only-of-type {\n",
       "        vertical-align: middle;\n",
       "    }\n",
       "\n",
       "    .dataframe tbody tr th {\n",
       "        vertical-align: top;\n",
       "    }\n",
       "\n",
       "    .dataframe thead th {\n",
       "        text-align: right;\n",
       "    }\n",
       "</style>\n",
       "<table border=\"1\" class=\"dataframe\">\n",
       "  <thead>\n",
       "    <tr style=\"text-align: right;\">\n",
       "      <th></th>\n",
       "      <th>filename</th>\n",
       "      <th>words</th>\n",
       "    </tr>\n",
       "  </thead>\n",
       "  <tbody>\n",
       "    <tr>\n",
       "      <th>21293</th>\n",
       "      <td>21293.jpg</td>\n",
       "      <td>สำนักงบประมาณ</td>\n",
       "    </tr>\n",
       "    <tr>\n",
       "      <th>156944</th>\n",
       "      <td>156944.jpg</td>\n",
       "      <td>brakemaking</td>\n",
       "    </tr>\n",
       "    <tr>\n",
       "      <th>143183</th>\n",
       "      <td>143183.jpg</td>\n",
       "      <td>abrenunciation</td>\n",
       "    </tr>\n",
       "    <tr>\n",
       "      <th>178185</th>\n",
       "      <td>178185.jpg</td>\n",
       "      <td>batler</td>\n",
       "    </tr>\n",
       "    <tr>\n",
       "      <th>78235</th>\n",
       "      <td>78235.jpg</td>\n",
       "      <td>แอนิมัล</td>\n",
       "    </tr>\n",
       "    <tr>\n",
       "      <th>...</th>\n",
       "      <td>...</td>\n",
       "      <td>...</td>\n",
       "    </tr>\n",
       "    <tr>\n",
       "      <th>41254</th>\n",
       "      <td>41254.jpg</td>\n",
       "      <td>aerobacteriologically</td>\n",
       "    </tr>\n",
       "    <tr>\n",
       "      <th>91612</th>\n",
       "      <td>91612.jpg</td>\n",
       "      <td>คอลเกต</td>\n",
       "    </tr>\n",
       "    <tr>\n",
       "      <th>192748</th>\n",
       "      <td>192748.jpg</td>\n",
       "      <td>โจวเซวียน</td>\n",
       "    </tr>\n",
       "    <tr>\n",
       "      <th>72830</th>\n",
       "      <td>72830.jpg</td>\n",
       "      <td>พระเจ้าฟร็องซัว</td>\n",
       "    </tr>\n",
       "    <tr>\n",
       "      <th>98096</th>\n",
       "      <td>98096.jpg</td>\n",
       "      <td>สถานีหอวัง</td>\n",
       "    </tr>\n",
       "  </tbody>\n",
       "</table>\n",
       "<p>160000 rows × 2 columns</p>\n",
       "</div>"
      ],
      "text/plain": [
       "          filename                  words\n",
       "21293    21293.jpg          สำนักงบประมาณ\n",
       "156944  156944.jpg            brakemaking\n",
       "143183  143183.jpg         abrenunciation\n",
       "178185  178185.jpg                 batler\n",
       "78235    78235.jpg                แอนิมัล\n",
       "...            ...                    ...\n",
       "41254    41254.jpg  aerobacteriologically\n",
       "91612    91612.jpg                 คอลเกต\n",
       "192748  192748.jpg              โจวเซวียน\n",
       "72830    72830.jpg        พระเจ้าฟร็องซัว\n",
       "98096    98096.jpg             สถานีหอวัง\n",
       "\n",
       "[160000 rows x 2 columns]"
      ]
     },
     "execution_count": 9,
     "metadata": {},
     "output_type": "execute_result"
    }
   ],
   "source": [
    "train"
   ]
  },
  {
   "cell_type": "code",
   "execution_count": 10,
   "metadata": {},
   "outputs": [
    {
     "data": {
      "text/html": [
       "<div>\n",
       "<style scoped>\n",
       "    .dataframe tbody tr th:only-of-type {\n",
       "        vertical-align: middle;\n",
       "    }\n",
       "\n",
       "    .dataframe tbody tr th {\n",
       "        vertical-align: top;\n",
       "    }\n",
       "\n",
       "    .dataframe thead th {\n",
       "        text-align: right;\n",
       "    }\n",
       "</style>\n",
       "<table border=\"1\" class=\"dataframe\">\n",
       "  <thead>\n",
       "    <tr style=\"text-align: right;\">\n",
       "      <th></th>\n",
       "      <th>filename</th>\n",
       "      <th>words</th>\n",
       "    </tr>\n",
       "  </thead>\n",
       "  <tbody>\n",
       "    <tr>\n",
       "      <th>102374</th>\n",
       "      <td>102374.jpg</td>\n",
       "      <td>alraun</td>\n",
       "    </tr>\n",
       "    <tr>\n",
       "      <th>41289</th>\n",
       "      <td>41289.jpg</td>\n",
       "      <td>กำลังสระเกศ</td>\n",
       "    </tr>\n",
       "    <tr>\n",
       "      <th>186343</th>\n",
       "      <td>186343.jpg</td>\n",
       "      <td>ใรอบ</td>\n",
       "    </tr>\n",
       "    <tr>\n",
       "      <th>79680</th>\n",
       "      <td>79680.jpg</td>\n",
       "      <td>เฟิร์ต</td>\n",
       "    </tr>\n",
       "    <tr>\n",
       "      <th>185464</th>\n",
       "      <td>185464.jpg</td>\n",
       "      <td>billard</td>\n",
       "    </tr>\n",
       "    <tr>\n",
       "      <th>...</th>\n",
       "      <td>...</td>\n",
       "      <td>...</td>\n",
       "    </tr>\n",
       "    <tr>\n",
       "      <th>164214</th>\n",
       "      <td>164214.jpg</td>\n",
       "      <td>articulacy</td>\n",
       "    </tr>\n",
       "    <tr>\n",
       "      <th>81027</th>\n",
       "      <td>81027.jpg</td>\n",
       "      <td>คูโร</td>\n",
       "    </tr>\n",
       "    <tr>\n",
       "      <th>30817</th>\n",
       "      <td>30817.jpg</td>\n",
       "      <td>bravehearted</td>\n",
       "    </tr>\n",
       "    <tr>\n",
       "      <th>101814</th>\n",
       "      <td>101814.jpg</td>\n",
       "      <td>blooding</td>\n",
       "    </tr>\n",
       "    <tr>\n",
       "      <th>166645</th>\n",
       "      <td>166645.jpg</td>\n",
       "      <td>เมืองกอโปชวาร์</td>\n",
       "    </tr>\n",
       "  </tbody>\n",
       "</table>\n",
       "<p>40000 rows × 2 columns</p>\n",
       "</div>"
      ],
      "text/plain": [
       "          filename           words\n",
       "102374  102374.jpg          alraun\n",
       "41289    41289.jpg     กำลังสระเกศ\n",
       "186343  186343.jpg            ใรอบ\n",
       "79680    79680.jpg          เฟิร์ต\n",
       "185464  185464.jpg         billard\n",
       "...            ...             ...\n",
       "164214  164214.jpg      articulacy\n",
       "81027    81027.jpg            คูโร\n",
       "30817    30817.jpg    bravehearted\n",
       "101814  101814.jpg        blooding\n",
       "166645  166645.jpg  เมืองกอโปชวาร์\n",
       "\n",
       "[40000 rows x 2 columns]"
      ]
     },
     "execution_count": 10,
     "metadata": {},
     "output_type": "execute_result"
    }
   ],
   "source": [
    "test"
   ]
  },
  {
   "cell_type": "code",
   "execution_count": 11,
   "metadata": {},
   "outputs": [],
   "source": [
    "os.makedirs('./dataset/', exist_ok=True)"
   ]
  },
  {
   "cell_type": "code",
   "execution_count": 12,
   "metadata": {},
   "outputs": [],
   "source": [
    "test.to_csv('./dataset/test.csv', index=False)\n",
    "train.to_csv('./dataset/train.csv', index=False)"
   ]
  },
  {
   "cell_type": "code",
   "execution_count": 15,
   "metadata": {},
   "outputs": [
    {
     "data": {
      "application/vnd.jupyter.widget-view+json": {
       "model_id": "0d0a3c079099431ca1f1083e48be3a34",
       "version_major": 2,
       "version_minor": 0
      },
      "text/plain": [
       "  0%|          | 0/160000 [00:00<?, ?it/s]"
      ]
     },
     "metadata": {},
     "output_type": "display_data"
    }
   ],
   "source": [
    "for filename in tqdm(train['filename']):\n",
    "    destination_path = os.path.join('./dataset/train', filename)\n",
    "    source_path = os.path.join(directory, filename)\n",
    "    shutil.copy(source_path, destination_path)"
   ]
  },
  {
   "cell_type": "code",
   "execution_count": 13,
   "metadata": {},
   "outputs": [
    {
     "data": {
      "application/vnd.jupyter.widget-view+json": {
       "model_id": "24c2f2c8fb974e32bcc3f152be784b06",
       "version_major": 2,
       "version_minor": 0
      },
      "text/plain": [
       "  0%|          | 0/40000 [00:00<?, ?it/s]"
      ]
     },
     "metadata": {},
     "output_type": "display_data"
    }
   ],
   "source": [
    "for filename in tqdm(test['filename']):\n",
    "    destination_path = os.path.join('./dataset/test', filename)\n",
    "    source_path = os.path.join(directory, filename)\n",
    "    shutil.copy(source_path, destination_path)"
   ]
  },
  {
   "cell_type": "code",
   "execution_count": 14,
   "metadata": {},
   "outputs": [
    {
     "data": {
      "text/plain": [
       "40001"
      ]
     },
     "execution_count": 14,
     "metadata": {},
     "output_type": "execute_result"
    }
   ],
   "source": [
    "check_test = glob.glob('./dataset/test/*')\n",
    "len(check_test)"
   ]
  },
  {
   "cell_type": "code",
   "execution_count": 16,
   "metadata": {},
   "outputs": [
    {
     "data": {
      "text/plain": [
       "160001"
      ]
     },
     "execution_count": 16,
     "metadata": {},
     "output_type": "execute_result"
    }
   ],
   "source": [
    "check_train = glob.glob('./dataset/train/*')\n",
    "len(check_train)"
   ]
  },
  {
   "cell_type": "code",
   "execution_count": null,
   "metadata": {},
   "outputs": [],
   "source": []
  }
 ],
 "metadata": {
  "kernelspec": {
   "display_name": "Python 3.8.13 ('easydocker')",
   "language": "python",
   "name": "python3"
  },
  "language_info": {
   "codemirror_mode": {
    "name": "ipython",
    "version": 3
   },
   "file_extension": ".py",
   "mimetype": "text/x-python",
   "name": "python",
   "nbconvert_exporter": "python",
   "pygments_lexer": "ipython3",
   "version": "3.8.13"
  },
  "orig_nbformat": 4,
  "vscode": {
   "interpreter": {
    "hash": "84c23c14dd5b22a722bc737b73f4c2e7db1ee3d6a873362f122332e5ea24d61c"
   }
  }
 },
 "nbformat": 4,
 "nbformat_minor": 2
}
